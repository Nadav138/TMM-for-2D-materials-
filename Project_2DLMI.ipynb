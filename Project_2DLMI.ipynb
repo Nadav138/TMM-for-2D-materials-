{
 "cells": [
  {
   "cell_type": "code",
   "execution_count": 1,
   "id": "890062a7-7188-4a48-b931-28677f99d1c3",
   "metadata": {},
   "outputs": [],
   "source": [
    "# IMPORT\n",
    "import numpy as np"
   ]
  },
  {
   "cell_type": "code",
   "execution_count": null,
   "id": "d4fd3662-d466-4af9-96f2-ef6aa5228bc5",
   "metadata": {},
   "outputs": [],
   "source": [
    "# Functions and Models \n",
    "\n"
   ]
  },
  {
   "cell_type": "code",
   "execution_count": 5,
   "id": "43ced95d-a661-490d-8d2b-5683fda71e05",
   "metadata": {},
   "outputs": [
    {
     "name": "stderr",
     "output_type": "stream",
     "text": [
      "/var/folders/mt/r41fpk8j6fs92x69_9hy27f40000gn/T/ipykernel_4501/2065469890.py:3: DeprecationWarning: `np.complex` is a deprecated alias for the builtin `complex`. To silence this warning, use `complex` by itself. Doing this will not modify any behavior and is safe. If you specifically wanted the numpy scalar type, use `np.complex128` here.\n",
      "Deprecated in NumPy 1.20; for more details and guidance: https://numpy.org/devdocs/release/1.20.0-notes.html#deprecations\n",
      "  ϵ = np.zeros(N, dtype=np.complex)\n",
      "/var/folders/mt/r41fpk8j6fs92x69_9hy27f40000gn/T/ipykernel_4501/2065469890.py:4: DeprecationWarning: `np.complex` is a deprecated alias for the builtin `complex`. To silence this warning, use `complex` by itself. Doing this will not modify any behavior and is safe. If you specifically wanted the numpy scalar type, use `np.complex128` here.\n",
      "Deprecated in NumPy 1.20; for more details and guidance: https://numpy.org/devdocs/release/1.20.0-notes.html#deprecations\n",
      "  d = np.zeros(N, dtype=np.complex)\n"
     ]
    }
   ],
   "source": [
    "# INPUT VECTORS \n",
    "N = 10 # change to number of layers\n",
    "ϵ = np.zeros(N, dtype=np.complex)\n",
    "d = np.zeros(N, dtype=np.complex) # position 0,-1 are inf (very large)\n",
    "# θ = # rea input angle \n",
    "\n",
    "\n",
    "# Later i need to read a Input list and make a translation (list or dictionary) of the \n",
    "# input from names (strings) to the relvant parameters in the complex vectors ϵ, d"
   ]
  },
  {
   "cell_type": "code",
   "execution_count": null,
   "id": "04be5e9b-50a1-4918-9ac3-fe49b2586478",
   "metadata": {},
   "outputs": [],
   "source": []
  }
 ],
 "metadata": {
  "kernelspec": {
   "display_name": "Python 3 (ipykernel)",
   "language": "python",
   "name": "python3"
  },
  "language_info": {
   "codemirror_mode": {
    "name": "ipython",
    "version": 3
   },
   "file_extension": ".py",
   "mimetype": "text/x-python",
   "name": "python",
   "nbconvert_exporter": "python",
   "pygments_lexer": "ipython3",
   "version": "3.9.13"
  }
 },
 "nbformat": 4,
 "nbformat_minor": 5
}
